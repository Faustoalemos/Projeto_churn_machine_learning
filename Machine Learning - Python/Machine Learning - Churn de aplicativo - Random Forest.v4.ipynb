{
 "cells": [
  {
   "attachments": {},
   "cell_type": "markdown",
   "id": "86eb45a6",
   "metadata": {},
   "source": [
    "# Projeto de Análise Exploratória, Correlação de Variáveis e Machine Learning\n",
    "\n",
    "**Random Forest** é um algoritmo de aprendizado de máquina que utiliza uma coleção de árvores de decisão para realizar classificações ou regressões. Ele opera criando diversas árvores a partir de subconjuntos aleatórios dos dados e, em seguida, combina as previsões de todas essas árvores para melhorar a precisão e reduzir o risco de overfitting. Essa abordagem robusta é especialmente eficaz em conjuntos de dados complexos e pode lidar bem com dados faltantes e variáveis irrelevantes.\n",
    "\n",
    "## Problema de Negócio\n",
    "\n",
    "Obter uma previsão de churn de clientes por meio da análise preditiva dos atributos dos clientes.\n",
    "\n",
    "## Base de Dados\n",
    "\n",
    "O dataset foi disponibilizado pela escola preditiva para projetos práticos de análise de dados e técnicas de machine learning.\n",
    "\n",
    "##### Você está aqui pelo processo completo e as linhas de código?\n",
    "\n",
    "Siga em frente em cada etapa e, caso se sinta à vontade, me ajude a desenvolver ainda mais minha visão sobre análise exploratória de dados e machine learning.\n",
    "\n",
    "##### Você está aqui pelo resultado final?\n",
    "\n",
    "Vá direto à [Conclusão Final](#8-Conclusões-Finais) para entender o resultado final do tratamento e exploração dos dados, ou acesse o link da apresentação do projeto. https://github.com/Faustoalemos/Projeto_churn_machine_learning/blob/main/Projeto%20Churn.pdf\n",
    "\n",
    "## Índice\n",
    "\n",
    "1. [Instalação e Importação das Bibliotecas](#instalacao-importacao)\n",
    "\n",
    "\n",
    "\n",
    "Documentação das bibliotecas utilizadas:\n",
    "- [Pandas](https://pandas.pydata.org/docs/)\n",
    "- [Seaborn](https://seaborn.pydata.org/)\n",
    "- [Scikit-learn](https://scikit-learn.org/stable/documentation.html)\n",
    "- [Numpy](https://numpy.org/doc/)\n",
    "- [Matplotlib](https://matplotlib.org/stable/index.html)\n",
    "\n",
    "2. [Importação dos Dados](#2-importação-dos-dados)\n",
    "\n",
    "\n",
    "3. [Exploração do Dataset](#3-exploração-do-dataset)\n",
    "\n",
    "Exploração inicial do dataset para entender a distribuição das variáveis, detectar outliers e padrões relevantes. Ferramentas como pandas e seaborn foram usadas para visualização e análise descritiva, o restante do processo de exploração de forma mais detalhada está no link: https://github.com/Faustoalemos/Projeto_churn_machine_learning/blob/main/Projeto%20Churn.pdf\n",
    "\n",
    "4. [Limpeza dos Dados](#4-limpeza-dos-dados)\n",
    "\n",
    "Tratamento de valores nulos e escalonamento dos dados para garantir que os modelos de machine learning possam ser aplicados de maneira eficiente. Utilizamos StandardScaler para normalizar as variáveis numéricas.\n",
    "\n",
    "5. [Tratamento e pré-processamento de dados](#5-tratamento-e-pré-processamento-de-dados)\n",
    "\n",
    "Para garantir que os dados estivessem prontos para a modelagem, realizamos o tratamento e pré-processamento. Substituímos valores nulos e normalizamos as variáveis numéricas utilizando StandardScaler. As variáveis de entrada (X) incluíram atributos como Idade, Limite de Crédito no Mercado, Quantidade de Categorias e Programa de Fidelidade, enquanto a variável de saída (y) foi a previsão de churn. O escalonamento foi aplicado para ajustar a escala dos dados e melhorar a performance do modelo preditivo.\n",
    "\n",
    "6. [Criação dos modelos preditivos ou classificação](#6-Criação-dos-modelos-preditivos-ou-classificação)\n",
    "\n",
    "Implementação do algoritmo de machine learning Random Forest para prever o churn dos clientes. O modelo foi treinado com os dados de treino e ajustado para obter melhores previsões.\n",
    "\n",
    "7. [Avaliando o desempenho do modelo](#7-Avaliando-o-desempenho-do-modelo)\n",
    "\n",
    "Avaliação do desempenho do modelo utilizando métricas como acurácia, precisão, recall, F1-score e ROC AUC. A matriz de confusão foi utilizada para identificar a eficácia do modelo em prever churn.\n",
    "\n",
    "8. [Conclusões Finais](#8-Conclusões-Finais)\n",
    "\n",
    "Com a implementação das estratégias de retenção baseadas em Machine Learning e a personalização de ofertas e comunicações, conseguimos identificar e atuar proativamente sobre clientes em risco de churn. A automação e a análise contínua de dados não só irão aumentaram a eficiência operacional, como também irão melhorar a precisão das nossas previsões, garantindo uma experiência superior para nossos clientes. O ideal é continuar aprimorando as abordagens para manter e fortalecer a lealdade dos nossos clientes."
   ]
  },
  {
   "cell_type": "markdown",
   "id": "f2c37728",
   "metadata": {},
   "source": [
    "## 1. Instalação e Importação das Bibliotecas\n",
    "<!-- #instalacao-importacao -->"
   ]
  },
  {
   "cell_type": "code",
   "execution_count": 1,
   "id": "947e95e8",
   "metadata": {},
   "outputs": [],
   "source": [
    "import pandas as pd\n",
    "import seaborn as sns\n",
    "import matplotlib.pyplot as plt\n",
    "import numpy as np\n",
    "\n",
    "\n",
    "from sklearn.model_selection import KFold\n",
    "from sklearn.model_selection import cross_val_score\n",
    "from sklearn.linear_model import LogisticRegression\n",
    "from sklearn.ensemble import RandomForestClassifier\n",
    "from sklearn.preprocessing import MinMaxScaler, LabelEncoder\n",
    "from sklearn.preprocessing import StandardScaler\n",
    "from xgboost import XGBClassifier\n",
    "from sklearn.model_selection import train_test_split\n",
    "from sklearn.metrics import accuracy_score, precision_score, recall_score, f1_score, roc_auc_score\n",
    "from sklearn.metrics import recall_score, confusion_matrix, precision_score, f1_score, accuracy_score, classification_report\n",
    "from imblearn.over_sampling import SMOTE\n",
    "%matplotlib inline\n",
    "import warnings\n",
    "warnings.filterwarnings('ignore')\n",
    "\n"
   ]
  },
  {
   "cell_type": "markdown",
   "id": "f0ec1238",
   "metadata": {},
   "source": [
    "## 2. Importação dos dados;\n",
    "<!-- #2-importação-dos-dados -->"
   ]
  },
  {
   "cell_type": "code",
   "execution_count": 2,
   "id": "45fcfc41",
   "metadata": {},
   "outputs": [],
   "source": [
    "data=pd.read_excel('base_churn_tratada.xlsx')"
   ]
  },
  {
   "cell_type": "markdown",
   "id": "a5e3afb3",
   "metadata": {},
   "source": [
    "## 3. Exploração do Dataset;\n",
    "<!--#3-exploração-do-dataset-->"
   ]
  },
  {
   "cell_type": "markdown",
   "id": "88183c6a",
   "metadata": {},
   "source": [
    "#### 3.1 Visualização das primeiras e ultimas linhas da tabela;   "
   ]
  },
  {
   "cell_type": "code",
   "execution_count": 3,
   "id": "9ba6703b",
   "metadata": {
    "scrolled": true
   },
   "outputs": [
    {
     "data": {
      "text/html": [
       "<div>\n",
       "<style scoped>\n",
       "    .dataframe tbody tr th:only-of-type {\n",
       "        vertical-align: middle;\n",
       "    }\n",
       "\n",
       "    .dataframe tbody tr th {\n",
       "        vertical-align: top;\n",
       "    }\n",
       "\n",
       "    .dataframe thead th {\n",
       "        text-align: right;\n",
       "    }\n",
       "</style>\n",
       "<table border=\"1\" class=\"dataframe\">\n",
       "  <thead>\n",
       "    <tr style=\"text-align: right;\">\n",
       "      <th></th>\n",
       "      <th>ClientId</th>\n",
       "      <th>DataExtracao</th>\n",
       "      <th>Score_Credito</th>\n",
       "      <th>Estado</th>\n",
       "      <th>Gênero</th>\n",
       "      <th>Idade</th>\n",
       "      <th>Tempo_Cliente</th>\n",
       "      <th>Limite_Credito_Mercado</th>\n",
       "      <th>Qte_Categorias</th>\n",
       "      <th>Usa_Cartao_Credito</th>\n",
       "      <th>Programa_Fidelidade</th>\n",
       "      <th>Sum_Pedidos_Acumulados</th>\n",
       "      <th>DataUltimaTransacao</th>\n",
       "      <th>Tempo sem comprar</th>\n",
       "      <th>Churn</th>\n",
       "    </tr>\n",
       "  </thead>\n",
       "  <tbody>\n",
       "    <tr>\n",
       "      <th>0</th>\n",
       "      <td>345568</td>\n",
       "      <td>2019-06-30</td>\n",
       "      <td>619</td>\n",
       "      <td>São Paulo</td>\n",
       "      <td>Feminino</td>\n",
       "      <td>42</td>\n",
       "      <td>2</td>\n",
       "      <td>0.0</td>\n",
       "      <td>1</td>\n",
       "      <td>1</td>\n",
       "      <td>1</td>\n",
       "      <td>422287</td>\n",
       "      <td>2019-09-14</td>\n",
       "      <td>46</td>\n",
       "      <td>1</td>\n",
       "    </tr>\n",
       "    <tr>\n",
       "      <th>1</th>\n",
       "      <td>345569</td>\n",
       "      <td>2019-06-30</td>\n",
       "      <td>608</td>\n",
       "      <td>Rio de Janeiro</td>\n",
       "      <td>Feminino</td>\n",
       "      <td>41</td>\n",
       "      <td>1</td>\n",
       "      <td>8380786.0</td>\n",
       "      <td>1</td>\n",
       "      <td>0</td>\n",
       "      <td>1</td>\n",
       "      <td>4689274166666667</td>\n",
       "      <td>2019-10-05</td>\n",
       "      <td>25</td>\n",
       "      <td>0</td>\n",
       "    </tr>\n",
       "    <tr>\n",
       "      <th>2</th>\n",
       "      <td>345570</td>\n",
       "      <td>2019-06-30</td>\n",
       "      <td>502</td>\n",
       "      <td>São Paulo</td>\n",
       "      <td>Feminino</td>\n",
       "      <td>42</td>\n",
       "      <td>8</td>\n",
       "      <td>1596608.0</td>\n",
       "      <td>3</td>\n",
       "      <td>1</td>\n",
       "      <td>0</td>\n",
       "      <td>474714875</td>\n",
       "      <td>2019-08-20</td>\n",
       "      <td>71</td>\n",
       "      <td>1</td>\n",
       "    </tr>\n",
       "    <tr>\n",
       "      <th>3</th>\n",
       "      <td>345571</td>\n",
       "      <td>2019-06-30</td>\n",
       "      <td>699</td>\n",
       "      <td>São Paulo</td>\n",
       "      <td>Feminino</td>\n",
       "      <td>39</td>\n",
       "      <td>1</td>\n",
       "      <td>0.0</td>\n",
       "      <td>2</td>\n",
       "      <td>0</td>\n",
       "      <td>0</td>\n",
       "      <td>39094429166666672</td>\n",
       "      <td>2019-10-21</td>\n",
       "      <td>9</td>\n",
       "      <td>0</td>\n",
       "    </tr>\n",
       "    <tr>\n",
       "      <th>4</th>\n",
       "      <td>345572</td>\n",
       "      <td>2019-06-30</td>\n",
       "      <td>850</td>\n",
       "      <td>Rio de Janeiro</td>\n",
       "      <td>Feminino</td>\n",
       "      <td>43</td>\n",
       "      <td>2</td>\n",
       "      <td>12551082.0</td>\n",
       "      <td>1</td>\n",
       "      <td>1</td>\n",
       "      <td>1</td>\n",
       "      <td>32951708333333336</td>\n",
       "      <td>2019-10-26</td>\n",
       "      <td>4</td>\n",
       "      <td>0</td>\n",
       "    </tr>\n",
       "  </tbody>\n",
       "</table>\n",
       "</div>"
      ],
      "text/plain": [
       "   ClientId DataExtracao  Score_Credito          Estado    Gênero  Idade  \\\n",
       "0    345568   2019-06-30            619       São Paulo  Feminino     42   \n",
       "1    345569   2019-06-30            608  Rio de Janeiro  Feminino     41   \n",
       "2    345570   2019-06-30            502       São Paulo  Feminino     42   \n",
       "3    345571   2019-06-30            699       São Paulo  Feminino     39   \n",
       "4    345572   2019-06-30            850  Rio de Janeiro  Feminino     43   \n",
       "\n",
       "   Tempo_Cliente  Limite_Credito_Mercado  Qte_Categorias  Usa_Cartao_Credito  \\\n",
       "0              2                     0.0               1                   1   \n",
       "1              1               8380786.0               1                   0   \n",
       "2              8               1596608.0               3                   1   \n",
       "3              1                     0.0               2                   0   \n",
       "4              2              12551082.0               1                   1   \n",
       "\n",
       "   Programa_Fidelidade  Sum_Pedidos_Acumulados DataUltimaTransacao  \\\n",
       "0                    1                  422287          2019-09-14   \n",
       "1                    1        4689274166666667          2019-10-05   \n",
       "2                    0               474714875          2019-08-20   \n",
       "3                    0       39094429166666672          2019-10-21   \n",
       "4                    1       32951708333333336          2019-10-26   \n",
       "\n",
       "   Tempo sem comprar  Churn  \n",
       "0                 46      1  \n",
       "1                 25      0  \n",
       "2                 71      1  \n",
       "3                  9      0  \n",
       "4                  4      0  "
      ]
     },
     "execution_count": 3,
     "metadata": {},
     "output_type": "execute_result"
    }
   ],
   "source": [
    "data.head()"
   ]
  },
  {
   "cell_type": "code",
   "execution_count": 4,
   "id": "95ce7159",
   "metadata": {},
   "outputs": [
    {
     "data": {
      "text/html": [
       "<div>\n",
       "<style scoped>\n",
       "    .dataframe tbody tr th:only-of-type {\n",
       "        vertical-align: middle;\n",
       "    }\n",
       "\n",
       "    .dataframe tbody tr th {\n",
       "        vertical-align: top;\n",
       "    }\n",
       "\n",
       "    .dataframe thead th {\n",
       "        text-align: right;\n",
       "    }\n",
       "</style>\n",
       "<table border=\"1\" class=\"dataframe\">\n",
       "  <thead>\n",
       "    <tr style=\"text-align: right;\">\n",
       "      <th></th>\n",
       "      <th>ClientId</th>\n",
       "      <th>DataExtracao</th>\n",
       "      <th>Score_Credito</th>\n",
       "      <th>Estado</th>\n",
       "      <th>Gênero</th>\n",
       "      <th>Idade</th>\n",
       "      <th>Tempo_Cliente</th>\n",
       "      <th>Limite_Credito_Mercado</th>\n",
       "      <th>Qte_Categorias</th>\n",
       "      <th>Usa_Cartao_Credito</th>\n",
       "      <th>Programa_Fidelidade</th>\n",
       "      <th>Sum_Pedidos_Acumulados</th>\n",
       "      <th>DataUltimaTransacao</th>\n",
       "      <th>Tempo sem comprar</th>\n",
       "      <th>Churn</th>\n",
       "    </tr>\n",
       "  </thead>\n",
       "  <tbody>\n",
       "    <tr>\n",
       "      <th>9995</th>\n",
       "      <td>355563</td>\n",
       "      <td>2019-06-30</td>\n",
       "      <td>771</td>\n",
       "      <td>São Paulo</td>\n",
       "      <td>Masculino</td>\n",
       "      <td>39</td>\n",
       "      <td>5</td>\n",
       "      <td>0.0</td>\n",
       "      <td>2</td>\n",
       "      <td>1</td>\n",
       "      <td>0</td>\n",
       "      <td>4011276666666666</td>\n",
       "      <td>2019-10-05</td>\n",
       "      <td>25</td>\n",
       "      <td>0</td>\n",
       "    </tr>\n",
       "    <tr>\n",
       "      <th>9996</th>\n",
       "      <td>355564</td>\n",
       "      <td>2019-06-30</td>\n",
       "      <td>516</td>\n",
       "      <td>São Paulo</td>\n",
       "      <td>Masculino</td>\n",
       "      <td>35</td>\n",
       "      <td>10</td>\n",
       "      <td>5736961.0</td>\n",
       "      <td>1</td>\n",
       "      <td>1</td>\n",
       "      <td>1</td>\n",
       "      <td>4237490416666666</td>\n",
       "      <td>2019-10-06</td>\n",
       "      <td>24</td>\n",
       "      <td>0</td>\n",
       "    </tr>\n",
       "    <tr>\n",
       "      <th>9997</th>\n",
       "      <td>355565</td>\n",
       "      <td>2019-06-30</td>\n",
       "      <td>709</td>\n",
       "      <td>São Paulo</td>\n",
       "      <td>Feminino</td>\n",
       "      <td>36</td>\n",
       "      <td>7</td>\n",
       "      <td>0.0</td>\n",
       "      <td>1</td>\n",
       "      <td>0</td>\n",
       "      <td>1</td>\n",
       "      <td>17535658333333332</td>\n",
       "      <td>2019-07-21</td>\n",
       "      <td>101</td>\n",
       "      <td>1</td>\n",
       "    </tr>\n",
       "    <tr>\n",
       "      <th>9998</th>\n",
       "      <td>355566</td>\n",
       "      <td>2019-06-30</td>\n",
       "      <td>772</td>\n",
       "      <td>Minas Gerais</td>\n",
       "      <td>Masculino</td>\n",
       "      <td>42</td>\n",
       "      <td>3</td>\n",
       "      <td>7507531.0</td>\n",
       "      <td>2</td>\n",
       "      <td>1</td>\n",
       "      <td>0</td>\n",
       "      <td>3870355</td>\n",
       "      <td>2019-08-19</td>\n",
       "      <td>72</td>\n",
       "      <td>1</td>\n",
       "    </tr>\n",
       "    <tr>\n",
       "      <th>9999</th>\n",
       "      <td>355567</td>\n",
       "      <td>2019-06-30</td>\n",
       "      <td>792</td>\n",
       "      <td>São Paulo</td>\n",
       "      <td>Feminino</td>\n",
       "      <td>28</td>\n",
       "      <td>4</td>\n",
       "      <td>13014279.0</td>\n",
       "      <td>1</td>\n",
       "      <td>1</td>\n",
       "      <td>0</td>\n",
       "      <td>15912825</td>\n",
       "      <td>2019-10-17</td>\n",
       "      <td>13</td>\n",
       "      <td>0</td>\n",
       "    </tr>\n",
       "  </tbody>\n",
       "</table>\n",
       "</div>"
      ],
      "text/plain": [
       "      ClientId DataExtracao  Score_Credito        Estado     Gênero  Idade  \\\n",
       "9995    355563   2019-06-30            771     São Paulo  Masculino     39   \n",
       "9996    355564   2019-06-30            516     São Paulo  Masculino     35   \n",
       "9997    355565   2019-06-30            709     São Paulo   Feminino     36   \n",
       "9998    355566   2019-06-30            772  Minas Gerais  Masculino     42   \n",
       "9999    355567   2019-06-30            792     São Paulo   Feminino     28   \n",
       "\n",
       "      Tempo_Cliente  Limite_Credito_Mercado  Qte_Categorias  \\\n",
       "9995              5                     0.0               2   \n",
       "9996             10               5736961.0               1   \n",
       "9997              7                     0.0               1   \n",
       "9998              3               7507531.0               2   \n",
       "9999              4              13014279.0               1   \n",
       "\n",
       "      Usa_Cartao_Credito  Programa_Fidelidade  Sum_Pedidos_Acumulados  \\\n",
       "9995                   1                    0        4011276666666666   \n",
       "9996                   1                    1        4237490416666666   \n",
       "9997                   0                    1       17535658333333332   \n",
       "9998                   1                    0                 3870355   \n",
       "9999                   1                    0                15912825   \n",
       "\n",
       "     DataUltimaTransacao  Tempo sem comprar  Churn  \n",
       "9995          2019-10-05                 25      0  \n",
       "9996          2019-10-06                 24      0  \n",
       "9997          2019-07-21                101      1  \n",
       "9998          2019-08-19                 72      1  \n",
       "9999          2019-10-17                 13      0  "
      ]
     },
     "execution_count": 4,
     "metadata": {},
     "output_type": "execute_result"
    }
   ],
   "source": [
    "data.tail()"
   ]
  },
  {
   "cell_type": "markdown",
   "id": "6a2f0b22",
   "metadata": {},
   "source": [
    "#### 3.2 Visualizando o tamanho total do dataset; "
   ]
  },
  {
   "cell_type": "code",
   "execution_count": 5,
   "id": "5049897b",
   "metadata": {},
   "outputs": [
    {
     "data": {
      "text/plain": [
       "(10000, 15)"
      ]
     },
     "execution_count": 5,
     "metadata": {},
     "output_type": "execute_result"
    }
   ],
   "source": [
    "data.shape"
   ]
  },
  {
   "cell_type": "markdown",
   "id": "3acee6df",
   "metadata": {},
   "source": [
    "#### 3.3 Visualizando o nome de cada uma das colunas;"
   ]
  },
  {
   "cell_type": "code",
   "execution_count": 6,
   "id": "1a9b0f93",
   "metadata": {},
   "outputs": [
    {
     "data": {
      "text/plain": [
       "Index(['ClientId', 'DataExtracao', 'Score_Credito', 'Estado', 'Gênero',\n",
       "       'Idade', 'Tempo_Cliente', 'Limite_Credito_Mercado', 'Qte_Categorias',\n",
       "       'Usa_Cartao_Credito', 'Programa_Fidelidade', 'Sum_Pedidos_Acumulados',\n",
       "       'DataUltimaTransacao', 'Tempo sem comprar', 'Churn'],\n",
       "      dtype='object')"
      ]
     },
     "execution_count": 6,
     "metadata": {},
     "output_type": "execute_result"
    }
   ],
   "source": [
    "data.columns"
   ]
  },
  {
   "cell_type": "markdown",
   "id": "f259e54e",
   "metadata": {},
   "source": [
    "Podemos utilizar para caso necessário quisermos pegar o nome de cada coluna para tratamento já no formato correto."
   ]
  },
  {
   "cell_type": "markdown",
   "id": "ef7369cf",
   "metadata": {},
   "source": [
    "#### 3.4 Verificando a indexação das linhas;"
   ]
  },
  {
   "cell_type": "code",
   "execution_count": 7,
   "id": "1338f435",
   "metadata": {},
   "outputs": [
    {
     "data": {
      "text/plain": [
       "RangeIndex(start=0, stop=10000, step=1)"
      ]
     },
     "execution_count": 7,
     "metadata": {},
     "output_type": "execute_result"
    }
   ],
   "source": [
    "data.index"
   ]
  },
  {
   "cell_type": "markdown",
   "id": "641b2579",
   "metadata": {},
   "source": [
    "Somente para visualizar e verificar a indexação de cada linha, como serão identificadas."
   ]
  },
  {
   "cell_type": "markdown",
   "id": "b97494de",
   "metadata": {},
   "source": [
    "#### 3.5 Analise de valores únicos dentro das colunas;   "
   ]
  },
  {
   "cell_type": "code",
   "execution_count": 8,
   "id": "9f582770",
   "metadata": {},
   "outputs": [
    {
     "data": {
      "text/plain": [
       "ClientId                  10000\n",
       "DataExtracao                  1\n",
       "Score_Credito               460\n",
       "Estado                        3\n",
       "Gênero                        2\n",
       "Idade                        70\n",
       "Tempo_Cliente                11\n",
       "Limite_Credito_Mercado     5614\n",
       "Qte_Categorias                4\n",
       "Usa_Cartao_Credito            2\n",
       "Programa_Fidelidade           2\n",
       "Sum_Pedidos_Acumulados     9999\n",
       "DataUltimaTransacao         122\n",
       "Tempo sem comprar           122\n",
       "Churn                         2\n",
       "dtype: int64"
      ]
     },
     "execution_count": 8,
     "metadata": {},
     "output_type": "execute_result"
    }
   ],
   "source": [
    "data.nunique()"
   ]
  },
  {
   "cell_type": "markdown",
   "id": "16659c90",
   "metadata": {},
   "source": [
    "#### 3.6 Analisando o formato de cada coluna; "
   ]
  },
  {
   "cell_type": "code",
   "execution_count": 9,
   "id": "ff334566",
   "metadata": {},
   "outputs": [
    {
     "name": "stdout",
     "output_type": "stream",
     "text": [
      "<class 'pandas.core.frame.DataFrame'>\n",
      "RangeIndex: 10000 entries, 0 to 9999\n",
      "Data columns (total 15 columns):\n",
      " #   Column                  Non-Null Count  Dtype         \n",
      "---  ------                  --------------  -----         \n",
      " 0   ClientId                10000 non-null  int64         \n",
      " 1   DataExtracao            10000 non-null  datetime64[ns]\n",
      " 2   Score_Credito           10000 non-null  int64         \n",
      " 3   Estado                  10000 non-null  object        \n",
      " 4   Gênero                  10000 non-null  object        \n",
      " 5   Idade                   10000 non-null  int64         \n",
      " 6   Tempo_Cliente           10000 non-null  int64         \n",
      " 7   Limite_Credito_Mercado  9232 non-null   float64       \n",
      " 8   Qte_Categorias          10000 non-null  int64         \n",
      " 9   Usa_Cartao_Credito      10000 non-null  int64         \n",
      " 10  Programa_Fidelidade     10000 non-null  int64         \n",
      " 11  Sum_Pedidos_Acumulados  10000 non-null  int64         \n",
      " 12  DataUltimaTransacao     10000 non-null  datetime64[ns]\n",
      " 13  Tempo sem comprar       10000 non-null  int64         \n",
      " 14  Churn                   10000 non-null  int64         \n",
      "dtypes: datetime64[ns](2), float64(1), int64(10), object(2)\n",
      "memory usage: 1.1+ MB\n"
     ]
    }
   ],
   "source": [
    "data.info()"
   ]
  },
  {
   "cell_type": "markdown",
   "id": "39f76f59",
   "metadata": {},
   "source": [
    " - Foi identificado que a coluna Limite_Credito_mercado, possui dados nulos."
   ]
  },
  {
   "cell_type": "markdown",
   "id": "cfb5e176",
   "metadata": {},
   "source": [
    "#### 3.7 Identificando valores missing;"
   ]
  },
  {
   "cell_type": "code",
   "execution_count": 10,
   "id": "4d9f5e24",
   "metadata": {},
   "outputs": [
    {
     "data": {
      "text/plain": [
       "ClientId                    0\n",
       "DataExtracao                0\n",
       "Score_Credito               0\n",
       "Estado                      0\n",
       "Gênero                      0\n",
       "Idade                       0\n",
       "Tempo_Cliente               0\n",
       "Limite_Credito_Mercado    768\n",
       "Qte_Categorias              0\n",
       "Usa_Cartao_Credito          0\n",
       "Programa_Fidelidade         0\n",
       "Sum_Pedidos_Acumulados      0\n",
       "DataUltimaTransacao         0\n",
       "Tempo sem comprar           0\n",
       "Churn                       0\n",
       "dtype: int64"
      ]
     },
     "execution_count": 10,
     "metadata": {},
     "output_type": "execute_result"
    }
   ],
   "source": [
    "data.isnull().sum()"
   ]
  },
  {
   "cell_type": "markdown",
   "id": "03df484c",
   "metadata": {},
   "source": [
    "- Com a visão foi possível identificar 768 valores nulos na coluna Limite_Credito_Mercado e dessa forma teremos que preencher os dados com a mediana, visto que a média conforme abaixo está sendo influênciada para baixo devido aos outliers zerados."
   ]
  },
  {
   "cell_type": "code",
   "execution_count": 11,
   "id": "4e3807ef",
   "metadata": {},
   "outputs": [
    {
     "name": "stdout",
     "output_type": "stream",
     "text": [
      "count    9.232000e+03\n",
      "mean     6.669974e+06\n",
      "std      6.314556e+06\n",
      "min      0.000000e+00\n",
      "25%      0.000000e+00\n",
      "50%      8.271338e+06\n",
      "75%      1.225104e+07\n",
      "max      2.508981e+07\n",
      "Name: Limite_Credito_Mercado, dtype: float64\n"
     ]
    }
   ],
   "source": [
    "print(data['Limite_Credito_Mercado'].describe())"
   ]
  },
  {
   "cell_type": "markdown",
   "id": "eea7db77",
   "metadata": {},
   "source": [
    " - Para efetuar o tratamento dos dados iremos incluir a mediana nos valores nulos para não influênciar de forma negativa a predição dos clientes com churn."
   ]
  },
  {
   "cell_type": "markdown",
   "id": "95594bdf",
   "metadata": {},
   "source": [
    "## 4. Limpeza dos dados;\n",
    "<!-- #4-limpeza-dos-dados -->"
   ]
  },
  {
   "cell_type": "code",
   "execution_count": 12,
   "id": "81084bd2",
   "metadata": {},
   "outputs": [
    {
     "name": "stdout",
     "output_type": "stream",
     "text": [
      "0\n"
     ]
    }
   ],
   "source": [
    "# Substituindo os valores nulos na coluna 'Limite_Credito_Mercado' pelo valor 8271337,5\n",
    "data['Limite_Credito_Mercado'] = data['Limite_Credito_Mercado'].fillna(8271337.5)\n",
    "\n",
    "# Verificando se a substituição foi feita corretamente\n",
    "print(data['Limite_Credito_Mercado'].isnull().sum())  # Deve retornar 0"
   ]
  },
  {
   "cell_type": "markdown",
   "id": "534280b1",
   "metadata": {},
   "source": [
    "- Tratamento dos dados realizado com sucesso com a inclusão da mediana nas linhas que estão com dados nulos."
   ]
  },
  {
   "cell_type": "code",
   "execution_count": 13,
   "id": "fffdba48",
   "metadata": {
    "scrolled": false
   },
   "outputs": [
    {
     "data": {
      "text/plain": [
       "ClientId                  0\n",
       "DataExtracao              0\n",
       "Score_Credito             0\n",
       "Estado                    0\n",
       "Gênero                    0\n",
       "Idade                     0\n",
       "Tempo_Cliente             0\n",
       "Limite_Credito_Mercado    0\n",
       "Qte_Categorias            0\n",
       "Usa_Cartao_Credito        0\n",
       "Programa_Fidelidade       0\n",
       "Sum_Pedidos_Acumulados    0\n",
       "DataUltimaTransacao       0\n",
       "Tempo sem comprar         0\n",
       "Churn                     0\n",
       "dtype: int64"
      ]
     },
     "execution_count": 13,
     "metadata": {},
     "output_type": "execute_result"
    }
   ],
   "source": [
    "data.isnull().sum()"
   ]
  },
  {
   "cell_type": "code",
   "execution_count": 14,
   "id": "018e5b85",
   "metadata": {},
   "outputs": [],
   "source": [
    "# Adicionar uma coluna de índice \n",
    "data['index'] = data.index"
   ]
  },
  {
   "cell_type": "markdown",
   "id": "3c7237df",
   "metadata": {},
   "source": [
    " - Vamos adicionar uma coluna de índice ao DataFrame original antes do escalonamento e balanceamento, para garantir que possamos mapear de volta para os índices originais após a divisão."
   ]
  },
  {
   "cell_type": "markdown",
   "id": "54b27cc2",
   "metadata": {},
   "source": [
    "## 5. Tratamento e pré-processamento de dados;   \n",
    "<!-- #5-tratamento-e-pré-processamento-de-dados -->"
   ]
  },
  {
   "cell_type": "code",
   "execution_count": 15,
   "id": "d98fc055",
   "metadata": {},
   "outputs": [],
   "source": [
    "# Escalonando os dados\n",
    "scaler = StandardScaler()\n",
    "X = data[['Idade', 'Limite_Credito_Mercado', 'Qte_Categorias', 'Programa_Fidelidade']] \n",
    "y = data['Churn']\n",
    "\n"
   ]
  },
  {
   "cell_type": "code",
   "execution_count": 90,
   "id": "f3375cb8",
   "metadata": {},
   "outputs": [],
   "source": [
    "# Aplicar o escalonamento \n",
    "X_scaled = scaler.fit_transform(X)"
   ]
  },
  {
   "cell_type": "markdown",
   "id": "7a1ad22c",
   "metadata": {},
   "source": [
    "- A padronização dos dados foi aplicado para garantir que todas as features tivessem a mesma escala, evitando que features com valores maiores dominassem o modelo de Regressão Logística."
   ]
  },
  {
   "cell_type": "code",
   "execution_count": 93,
   "id": "388cb39b",
   "metadata": {},
   "outputs": [],
   "source": [
    "# Balanceamento das classes com SMOTE \n",
    "sm = SMOTE(random_state=42) \n",
    "X_resampled, y_resampled = sm.fit_resample(X, y)\n",
    "indices_resampled = sm.fit_resample(np.array(data.index).reshape(-1, 1), y)[0]"
   ]
  },
  {
   "cell_type": "markdown",
   "id": "e55a07a7",
   "metadata": {},
   "source": [
    "## 6. Criação dos modelos preditivos ou classificação;\n",
    "<!-- #6-Criação-dos-modelos-preditivos-ou-classificação -->"
   ]
  },
  {
   "cell_type": "markdown",
   "id": "dd1db34d",
   "metadata": {},
   "source": [
    "- Será necessário separar apenas as colunas que iremos utilizar na classificação e que já entendemos que seriam importantes para o modelo funcionar e que possuem correlação segundo o information value."
   ]
  },
  {
   "cell_type": "markdown",
   "id": "c65aa0a7",
   "metadata": {},
   "source": [
    "#### 6.1 Separação dos dados de treino e teste;"
   ]
  },
  {
   "cell_type": "code",
   "execution_count": 94,
   "id": "c750d6e5",
   "metadata": {
    "scrolled": true
   },
   "outputs": [],
   "source": [
    "# Dividir os dados em treinamento e teste \n",
    "#X_train, X_test, y_train, y_test = train_test_split(X_resampled, y_resampled, test_size=0.3, random_state=65, stratify=y_resampled)\n",
    "X_train, X_test, y_train, y_test, train_idx, test_idx = train_test_split(X_resampled, y_resampled, indices_resampled, test_size=0.3, random_state=42, stratify=y_resampled)"
   ]
  },
  {
   "cell_type": "markdown",
   "id": "92d0a99a",
   "metadata": {},
   "source": [
    "Nesse momento estamos separandos as variáveis de entradas que são os nossos históricos  e a variável de saída que é o nosso target ou previsão."
   ]
  },
  {
   "cell_type": "markdown",
   "id": "2087b2c3",
   "metadata": {},
   "source": [
    "#### 6.2 Treinamento do Modelo;"
   ]
  },
  {
   "cell_type": "code",
   "execution_count": 95,
   "id": "99230820",
   "metadata": {
    "scrolled": false
   },
   "outputs": [
    {
     "data": {
      "text/plain": [
       "RandomForestClassifier(random_state=100)"
      ]
     },
     "execution_count": 95,
     "metadata": {},
     "output_type": "execute_result"
    }
   ],
   "source": [
    "# Treinar o modelo\n",
    "rf_model = RandomForestClassifier(random_state=100) \n",
    "rf_model.fit(X_train, y_train)"
   ]
  },
  {
   "cell_type": "code",
   "execution_count": 96,
   "id": "b038412e",
   "metadata": {},
   "outputs": [],
   "source": [
    "# Prever o churn para os dados de teste\n",
    "y_pred_rf = rf_model.predict(X_test)"
   ]
  },
  {
   "cell_type": "code",
   "execution_count": 97,
   "id": "6df27172",
   "metadata": {},
   "outputs": [],
   "source": [
    "# Prever a probabilidade\n",
    "y_pred_rf_prob = rf_model.predict_proba(X_test)[:, 1]"
   ]
  },
  {
   "cell_type": "code",
   "execution_count": 118,
   "id": "b17b3d38",
   "metadata": {},
   "outputs": [],
   "source": [
    "# Ajustar o threshold \n",
    "optimal_threshold = 0.2 # Ajuste conforme necessário\n",
    "\n",
    "# Ajuste conforme necessário \n",
    "y_pred_rf_adjusted = (y_pred_rf_prob >= optimal_threshold).astype(int)"
   ]
  },
  {
   "cell_type": "code",
   "execution_count": 119,
   "id": "af4d9f1e",
   "metadata": {},
   "outputs": [],
   "source": [
    "# Juntar as previsões e probabilidades ajustadas \n",
    "y_result_prob_rf = np.concatenate((y_pred_rf_adjusted.reshape(len(y_pred_rf_adjusted), 1), y_pred_rf_prob.reshape(len(y_pred_rf_prob), 1)), axis=1) \n",
    "y_result_df_rf = pd.DataFrame(y_result_prob_rf, columns=['y_pred_adjusted', 'y_pred_prob'])"
   ]
  },
  {
   "cell_type": "code",
   "execution_count": 120,
   "id": "f9ca8934",
   "metadata": {
    "scrolled": true
   },
   "outputs": [],
   "source": [
    "# Transformando o resultado em uma tabela.\n",
    "y_result_df_rf = pd.DataFrame(y_result_prob_rf, columns=['y_pred_adjusted', 'y_pred_prob'])"
   ]
  },
  {
   "cell_type": "markdown",
   "id": "f028e419",
   "metadata": {},
   "source": [
    "## 7. Avaliando o desempenho do modelo;\n",
    "<!-- #7-Avaliando-o-desempenho-do-modelo -->"
   ]
  },
  {
   "cell_type": "code",
   "execution_count": 121,
   "id": "4994b46b",
   "metadata": {},
   "outputs": [
    {
     "name": "stdout",
     "output_type": "stream",
     "text": [
      "Acurácia nos dados de teste: 77.947%\n"
     ]
    }
   ],
   "source": [
    "result = rf_model.score(X_test,y_test)\n",
    "print(\"Acurácia nos dados de teste: %.3f%%\" % (result*100.0))"
   ]
  },
  {
   "cell_type": "code",
   "execution_count": 122,
   "id": "cfeba43d",
   "metadata": {},
   "outputs": [
    {
     "name": "stdout",
     "output_type": "stream",
     "text": [
      "Confusion Matrix:\n",
      " [[1492  905]\n",
      " [ 238 2158]]\n"
     ]
    }
   ],
   "source": [
    "# Confusion Matrix \n",
    "conf_matrix = confusion_matrix(y_test, y_pred_rf_adjusted) \n",
    "print(\"Confusion Matrix:\\n\", conf_matrix)"
   ]
  },
  {
   "cell_type": "code",
   "execution_count": 103,
   "id": "e59851d0",
   "metadata": {},
   "outputs": [
    {
     "name": "stdout",
     "output_type": "stream",
     "text": [
      "Accuracy (RF, adjusted): 0.779261422908408\n",
      "Precision (RF, adjusted): 0.7748562037797864\n",
      "Recall (RF, adjusted): 0.7871452420701168\n",
      "F1 Score (RF, adjusted): 0.780952380952381\n",
      "ROC AUC Score (RF, adjusted): 0.8616770545820004\n"
     ]
    }
   ],
   "source": [
    "# Métricas de Avaliação\n",
    "print(\"Accuracy (RF, adjusted):\", accuracy_score(y_test, y_pred_rf_adjusted))\n",
    "print(\"Precision (RF, adjusted):\", precision_score(y_test, y_pred_rf_adjusted))\n",
    "print(\"Recall (RF, adjusted):\", recall_score(y_test, y_pred_rf_adjusted))\n",
    "print(\"F1 Score (RF, adjusted):\", f1_score(y_test, y_pred_rf_adjusted))\n",
    "print(\"ROC AUC Score (RF, adjusted):\", roc_auc_score(y_test, y_pred_rf_prob))"
   ]
  },
  {
   "cell_type": "code",
   "execution_count": 106,
   "id": "ba31e15e",
   "metadata": {},
   "outputs": [],
   "source": [
    "# Juntar as previsões e probabilidades em um DataFrame\n",
    "results_df = pd.DataFrame({ 'ClientId': data.loc[test_idx.flatten().astype(int), 'ClientId'].values,\n",
    "                           'Idade': data.loc[test_idx.flatten().astype(int), 'Idade'].values,\n",
    "                           'Limite_Credito_Mercado': data.loc[test_idx.flatten().astype(int),'Limite_Credito_Mercado'].values,\n",
    "                           'Qte_Categorias': data.loc[test_idx.flatten().astype(int),'Qte_Categorias'].values,\n",
    "                           'Programa_Fidelidade': data.loc[test_idx.flatten().astype(int), 'Programa_Fidelidade'].values,\n",
    "                           'Actual': y_test.values,\n",
    "                           'Predicted': y_pred_rf_adjusted, \n",
    "                           'Probability': y_pred_rf_prob})"
   ]
  },
  {
   "cell_type": "code",
   "execution_count": 107,
   "id": "b42e2a50",
   "metadata": {},
   "outputs": [],
   "source": [
    "# Exportando o DataFrame final para um arquivo Excel\n",
    "caminho_arquivo = r'F:\\Pen Fausto\\Curso - Preditiva AI\\Fundamentos Anaytics\\08 - Projeto Nº2\\resultado_churnv5.xlsx'\n",
    "results_df.to_excel(caminho_arquivo, index=False)"
   ]
  },
  {
   "cell_type": "markdown",
   "id": "4736daed",
   "metadata": {},
   "source": [
    "## 8. Conclusões Finais\n",
    "<!-- #8-Conclusões-Finais -->"
   ]
  },
  {
   "cell_type": "markdown",
   "id": "a434d496",
   "metadata": {},
   "source": [
    "Com a implementação das estratégias de retenção baseadas em Machine Learning e a personalização de ofertas e comunicações, conseguimos identificar e atuar proativamente sobre clientes em risco de churn. A automação e a análise contínua de dados não só irão aumentaram a eficiência operacional, como também irão melhorar a precisão das nossas previsões, garantindo uma experiência superior para nossos clientes. O ideal é continuar aprimorando as abordagens para manter e fortalecer a lealdade dos nossos clientes."
   ]
  },
  {
   "cell_type": "code",
   "execution_count": null,
   "id": "09294b2c",
   "metadata": {},
   "outputs": [],
   "source": []
  },
  {
   "cell_type": "code",
   "execution_count": null,
   "id": "dc8f1125",
   "metadata": {},
   "outputs": [],
   "source": []
  },
  {
   "cell_type": "code",
   "execution_count": null,
   "id": "eb5cffde",
   "metadata": {},
   "outputs": [],
   "source": []
  }
 ],
 "metadata": {
  "kernelspec": {
   "display_name": "Python 3 (ipykernel)",
   "language": "python",
   "name": "python3"
  },
  "language_info": {
   "codemirror_mode": {
    "name": "ipython",
    "version": 3
   },
   "file_extension": ".py",
   "mimetype": "text/x-python",
   "name": "python",
   "nbconvert_exporter": "python",
   "pygments_lexer": "ipython3",
   "version": "3.9.13"
  }
 },
 "nbformat": 4,
 "nbformat_minor": 5
}
